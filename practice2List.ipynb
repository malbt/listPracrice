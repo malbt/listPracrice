{
 "cells": [
  {
   "cell_type": "markdown",
   "metadata": {},
   "source": [
    "23. Write a Python program to flatten a shallow list. "
   ]
  },
  {
   "cell_type": "code",
   "execution_count": 10,
   "metadata": {},
   "outputs": [
    {
     "name": "stdout",
     "output_type": "stream",
     "text": [
      "[1, 2, 3, 4, 5, 6, 7, 8, 9]\n"
     ]
    }
   ],
   "source": [
    "L1=[[1,2],[3,4,5],[6,7,8,9]]\n",
    "flat=[]\n",
    "for i in L1:\n",
    "  for j in i:\n",
    "    flat.append(j)\n",
    "print (flat)"
   ]
  },
  {
   "cell_type": "code",
   "execution_count": 12,
   "metadata": {},
   "outputs": [
    {
     "data": {
      "text/plain": [
       "[1, 2, 3, 4, 5, 6, 7, 8, 9]"
      ]
     },
     "execution_count": 12,
     "metadata": {},
     "output_type": "execute_result"
    }
   ],
   "source": [
    "list(set().union(*L1))"
   ]
  },
  {
   "cell_type": "code",
   "execution_count": 11,
   "metadata": {},
   "outputs": [
    {
     "name": "stdout",
     "output_type": "stream",
     "text": [
      "[2, 4, 3, 1, 5, 6, 9, 7, 9, 0]\n"
     ]
    }
   ],
   "source": [
    "import itertools\n",
    "original_list = [[2,4,3],[1,5,6], [9], [7,9,0]]\n",
    "new_merged_list = list(itertools.chain(*original_list))\n",
    "print(new_merged_list)"
   ]
  },
  {
   "cell_type": "markdown",
   "metadata": {},
   "source": [
    "24.Write a Python program to append a list to the second list. "
   ]
  },
  {
   "cell_type": "code",
   "execution_count": 8,
   "metadata": {},
   "outputs": [
    {
     "name": "stdout",
     "output_type": "stream",
     "text": [
      "[1, 2, 3, 4, [6, 8, 7, 9]]\n"
     ]
    }
   ],
   "source": [
    "l1= [1, 2, 3, 4]\n",
    "l2= [6, 8, 7, 9]\n",
    "l1.append(l2)\n",
    "print(l1)\n",
    "    "
   ]
  },
  {
   "cell_type": "code",
   "execution_count": 9,
   "metadata": {},
   "outputs": [
    {
     "name": "stdout",
     "output_type": "stream",
     "text": [
      "[1, 2, 3, 4, 6, 8, 7, 9]\n"
     ]
    }
   ],
   "source": [
    "l1= [1, 2, 3, 4]\n",
    "l2= [6, 8, 7, 9]\n",
    "l3= l1+l2\n",
    "print(l3)"
   ]
  },
  {
   "cell_type": "markdown",
   "metadata": {},
   "source": [
    "25. Write a Python program to select an item randomly from a list."
   ]
  },
  {
   "cell_type": "code",
   "execution_count": 7,
   "metadata": {},
   "outputs": [
    {
     "name": "stdout",
     "output_type": "stream",
     "text": [
      "Black\n"
     ]
    }
   ],
   "source": [
    "import random\n",
    "color_list = ['Red', 'Blue', 'Green', 'White', 'Black']\n",
    "print(random.choice(color_list))"
   ]
  },
  {
   "cell_type": "markdown",
   "metadata": {},
   "source": [
    "27. Write a Python program to find the second smallest number in a list."
   ]
  },
  {
   "cell_type": "code",
   "execution_count": 3,
   "metadata": {},
   "outputs": [],
   "source": [
    "unlist = []\n",
    "nlist = []\n",
    "def snd_small(slist):\n",
    "    if (len(slist)<2):\n",
    "        print(\"not enough element in the list\")\n",
    "        return\n",
    "    if ((len(slist)==2)  and (slist[0] == slist[1]) ):\n",
    "        print(\"not enough element in the list\")\n",
    "        return\n",
    "    for i in slist:\n",
    "        if i not in unlist:\n",
    "            unlist.append(i)\n",
    "        elif i in unlist:\n",
    "            nlist.append(i)\n",
    "    unlist.sort()\n",
    "    print(\"sorted last list :\", unlist)\n",
    "    print(\"2nd lowest: \",unlist[1])\n",
    "#the list has to be > 2 and the item should not be equal "
   ]
  },
  {
   "cell_type": "code",
   "execution_count": 4,
   "metadata": {},
   "outputs": [
    {
     "name": "stdout",
     "output_type": "stream",
     "text": [
      "sorted last list : [-8, -2, 0, 1, 2]\n",
      "2nd lowest:  -2\n"
     ]
    }
   ],
   "source": [
    "slist = [1, 2, -8, -2, 0, -2]\n",
    "snd_small(slist)"
   ]
  },
  {
   "cell_type": "markdown",
   "metadata": {},
   "source": [
    "28. Write a Python program to find the second largest number in a list."
   ]
  },
  {
   "cell_type": "code",
   "execution_count": 5,
   "metadata": {},
   "outputs": [],
   "source": [
    "unlist = []\n",
    "nlist = []\n",
    "def secn(slist):\n",
    "    if (len(slist)<2):\n",
    "        print(\"not enough element in the list\")\n",
    "        return\n",
    "    if ((len(slist)==2)  and (slist[0] == slist[1]) ):\n",
    "        print(\"not enough element in the list\")\n",
    "        return\n",
    "    for i in slist:\n",
    "        if i not in unlist:\n",
    "            unlist.append(i)\n",
    "        elif i in unlist:\n",
    "            nlist.append(i)\n",
    "    unlist.sort()\n",
    "    print(\"sorted last list :\", unlist)\n",
    "    print(\"2nd largest: \", unlist[-2])"
   ]
  },
  {
   "cell_type": "code",
   "execution_count": 6,
   "metadata": {},
   "outputs": [
    {
     "name": "stdout",
     "output_type": "stream",
     "text": [
      "sorted last list : [-8, -2, 0, 1, 2]\n",
      "2nd largest:  1\n"
     ]
    }
   ],
   "source": [
    "slist = [1, 2, -8, -2, 0, -2]\n",
    "secn(slist)"
   ]
  },
  {
   "cell_type": "markdown",
   "metadata": {},
   "source": [
    "29. Write a Python program to get unique values from a list."
   ]
  },
  {
   "cell_type": "code",
   "execution_count": 19,
   "metadata": {},
   "outputs": [
    {
     "name": "stdout",
     "output_type": "stream",
     "text": [
      "unique: [1, 2, -8, -2, 0]\n",
      "duplicate: [-2]\n"
     ]
    }
   ],
   "source": [
    "slist = [1, 2, -8, -2, 0, -2]\n",
    "unlist = []\n",
    "nlist = []\n",
    "for i in slist:\n",
    "    if i not in unlist:\n",
    "        unlist.append(i)\n",
    "    elif i in unlist:\n",
    "        nlist.append(i)\n",
    "        print(\"unique:\", unlist)\n",
    "        print(\"duplicate:\", nlist)"
   ]
  },
  {
   "cell_type": "code",
   "execution_count": 22,
   "metadata": {},
   "outputs": [
    {
     "name": "stdout",
     "output_type": "stream",
     "text": [
      "duplicate removed: [0, 1, 2, -8, -2]\n"
     ]
    }
   ],
   "source": [
    "s_list = [1, 2, -8, -2, 0, -2]\n",
    "s_list = list(set(s_list))\n",
    "print(\"duplicate removed:\", s_list)"
   ]
  },
  {
   "cell_type": "markdown",
   "metadata": {},
   "source": [
    "30. Write a Python program to get the frequency of the elements in a list."
   ]
  },
  {
   "cell_type": "code",
   "execution_count": 23,
   "metadata": {},
   "outputs": [
    {
     "name": "stdout",
     "output_type": "stream",
     "text": [
      "Original List :  [10, 10, 10, 10, 20, 20, 20, 20, 40, 40, 50, 50, 30]\n",
      "Frequency of the elements in the List :  Counter({10: 4, 20: 4, 40: 2, 50: 2, 30: 1})\n",
      "Counter({10: 4, 20: 4, 40: 2, 50: 2, 30: 1})\n"
     ]
    }
   ],
   "source": [
    "import collections\n",
    "from collections import Counter\n",
    "my_list = [10,10,10,10,20,20,20,20,40,40,50,50,30]\n",
    "print(\"Original List : \",my_list)\n",
    "ctr = collections.Counter(my_list)\n",
    "print(\"Frequency of the elements in the List : \",ctr)\n",
    "print(ctr)"
   ]
  },
  {
   "cell_type": "code",
   "execution_count": 24,
   "metadata": {},
   "outputs": [
    {
     "name": "stdout",
     "output_type": "stream",
     "text": [
      "Counter({'c': 3, 'b': 2, 'a': 1})\n"
     ]
    }
   ],
   "source": [
    "from collections import Counter\n",
    "\n",
    "coun = Counter(a=1, b=2, c=3)\n",
    "print(coun)\n",
    "\n",
    "#print(list(coun.elements())) "
   ]
  },
  {
   "cell_type": "code",
   "execution_count": 27,
   "metadata": {},
   "outputs": [
    {
     "name": "stdout",
     "output_type": "stream",
     "text": [
      "['a', 'b', 'b', 'c', 'c', 'c']\n"
     ]
    }
   ],
   "source": [
    "print(list(coun.elements())) "
   ]
  },
  {
   "cell_type": "markdown",
   "metadata": {},
   "source": [
    "more"
   ]
  },
  {
   "cell_type": "code",
   "execution_count": 28,
   "metadata": {},
   "outputs": [
    {
     "name": "stdout",
     "output_type": "stream",
     "text": [
      "Counter({5: 2, 6: 2, 2: 1, 3: 1, 4: 1, 7: 1, 18: 1})\n"
     ]
    }
   ],
   "source": [
    "size = [2, 3, 4, 5, 6, 7, 6, 5, 18]\n",
    "ctr_size = collections.Counter(size)\n",
    "print(ctr_size)"
   ]
  },
  {
   "cell_type": "markdown",
   "metadata": {},
   "source": [
    "31. Write a Python program to count the number of elements in a list within a specified range."
   ]
  },
  {
   "cell_type": "code",
   "execution_count": 29,
   "metadata": {},
   "outputs": [],
   "source": [
    "def count_range_in_list(li, min, max):\n",
    "    ctr = 0\n",
    "    for x in li:\n",
    "        if min <= x <= max:\n",
    "            ctr += 1\n",
    "    return ctr"
   ]
  },
  {
   "cell_type": "code",
   "execution_count": 33,
   "metadata": {},
   "outputs": [
    {
     "name": "stdout",
     "output_type": "stream",
     "text": [
      "item# of number list: 6\n",
      "item# of alphabet list: 5\n"
     ]
    }
   ],
   "source": [
    "list1 = [10,20,30,40,40,40,70,80,99]\n",
    "print(\"item# of number list:\", count_range_in_list(list1, 40, 100))\n",
    "\n",
    "list2 = ['a','b','c','d','e','f']\n",
    "print(\"item# of alphabet list:\", count_range_in_list(list2, 'a', 'e'))"
   ]
  },
  {
   "cell_type": "markdown",
   "metadata": {},
   "source": [
    "32. Write a Python program to check whether a list contains a sublist."
   ]
  },
  {
   "cell_type": "code",
   "execution_count": 34,
   "metadata": {},
   "outputs": [
    {
     "name": "stdout",
     "output_type": "stream",
     "text": [
      "True\n",
      "True\n",
      "True\n",
      "False\n"
     ]
    }
   ],
   "source": [
    "list1 =[1,2]\n",
    "list2 = [1,2,3]\n",
    "list3 = [1,2,3,4,5,6,7]\n",
    "list4 = [3,6,1,2,2, 2, 2, 2]\n",
    "set1 = set(list1)\n",
    "set2 = set(list2)\n",
    "set3 = set(list3)\n",
    "set4 = set(list4)\n",
    "is_subset = set1.issubset(set2)\n",
    "is_subset1 = set2.issubset(set3)\n",
    "is_subset2 = set4.issubset(set3)\n",
    "is_subset3 = set4.issubset(set2)\n",
    "print(is_subset)\n",
    "print(is_subset1)\n",
    "print(is_subset2)\n",
    "print(is_subset3)"
   ]
  },
  {
   "cell_type": "code",
   "execution_count": null,
   "metadata": {},
   "outputs": [],
   "source": [
    "or"
   ]
  },
  {
   "cell_type": "code",
   "execution_count": 35,
   "metadata": {},
   "outputs": [
    {
     "name": "stdout",
     "output_type": "stream",
     "text": [
      "True\n",
      "False\n"
     ]
    }
   ],
   "source": [
    "def is_Sublist(l, s):\n",
    "\tsub_set = False\n",
    "\tif s == []:\n",
    "\t\tsub_set = True\n",
    "\telif s == l:\n",
    "\t\tsub_set = True\n",
    "\telif len(s) > len(l):\n",
    "\t\tsub_set = False\n",
    "\n",
    "\telse:\n",
    "\t\tfor i in range(len(l)):\n",
    "\t\t\tif l[i] == s[0]:\n",
    "\t\t\t\tn = 1\n",
    "\t\t\t\twhile (n < len(s)) and (l[i+n] == s[n]):\n",
    "\t\t\t\t\tn += 1\n",
    "\t\t\t\t\n",
    "\t\t\t\tif n == len(s):\n",
    "\t\t\t\t\tsub_set = True\n",
    "\n",
    "\treturn sub_set\n",
    "\n",
    "a = [2,4,3,5,7]\n",
    "b = [4,3]\n",
    "c = [3,7]\n",
    "print(is_Sublist(a, b))\n",
    "print(is_Sublist(a, c))"
   ]
  },
  {
   "cell_type": "code",
   "execution_count": 51,
   "metadata": {},
   "outputs": [],
   "source": [
    "result = []\n",
    "def check(a,b):\n",
    "    for x in a:\n",
    "        if x not in b:\n",
    "            print(\"list b is not a subset of list a\")\n",
    "            return\n",
    "            #rel = result.count(result[0]) == len(result) \n",
    "        elif x in b:\n",
    "            result.append(True)\n",
    "            rel = result.count(result[0]) == len(result) \n",
    "            return rel"
   ]
  },
  {
   "cell_type": "code",
   "execution_count": 44,
   "metadata": {},
   "outputs": [
    {
     "data": {
      "text/plain": [
       "True"
      ]
     },
     "execution_count": 44,
     "metadata": {},
     "output_type": "execute_result"
    }
   ],
   "source": [
    "a = [1,2,3,4]\n",
    "b =[1,2, 3]\n",
    "check(a,b)"
   ]
  },
  {
   "cell_type": "code",
   "execution_count": 53,
   "metadata": {},
   "outputs": [
    {
     "name": "stdout",
     "output_type": "stream",
     "text": [
      "list b is not a subset of list a\n"
     ]
    }
   ],
   "source": [
    "a = [4,5,6,7]\n",
    "b =[1,2, 3]\n",
    "check(a,b)"
   ]
  },
  {
   "cell_type": "code",
   "execution_count": 57,
   "metadata": {},
   "outputs": [
    {
     "data": {
      "text/plain": [
       "True"
      ]
     },
     "execution_count": 57,
     "metadata": {},
     "output_type": "execute_result"
    }
   ],
   "source": [
    "a = [4,5,6,7, 2]\n",
    "b =[1,2, 3, 4]\n",
    "check(a,b)\n",
    "#this should have been false"
   ]
  },
  {
   "cell_type": "code",
   "execution_count": 58,
   "metadata": {},
   "outputs": [
    {
     "name": "stdout",
     "output_type": "stream",
     "text": [
      "False\n",
      "False\n",
      "{2, 4, 5, 6, 7}\n",
      "{1, 2, 3, 4}\n"
     ]
    }
   ],
   "source": [
    "a = [4,5,6,7, 2]\n",
    "b =[1,2, 3, 4]\n",
    "set_a = set(a)\n",
    "set_b = set(b)\n",
    "is_subseta = set_a.issubset(set_b)\n",
    "is_subsetb = set_b.issubset(set_a)\n",
    "print(is_subseta )\n",
    "print(is_subsetb)\n",
    "print(set_a)\n",
    "print(set_b)"
   ]
  },
  {
   "cell_type": "code",
   "execution_count": 55,
   "metadata": {},
   "outputs": [
    {
     "data": {
      "text/plain": [
       "True"
      ]
     },
     "execution_count": 55,
     "metadata": {},
     "output_type": "execute_result"
    }
   ],
   "source": [
    "a = [1,2,3,4]\n",
    "b =[1,2, 3]\n",
    "check(a,b)"
   ]
  },
  {
   "cell_type": "markdown",
   "metadata": {},
   "source": [
    "33. Write a Python program to generate all sublists of a list. am assumin g its talking all the possible sub list."
   ]
  },
  {
   "cell_type": "code",
   "execution_count": 59,
   "metadata": {},
   "outputs": [
    {
     "name": "stdout",
     "output_type": "stream",
     "text": [
      "Original list:\n",
      "[10, 20, 30, 40]\n",
      "S\n",
      "[[], [10], [20], [30], [40], [10, 20], [10, 30], [10, 40], [20, 30], [20, 40], [30, 40], [10, 20, 30], [10, 20, 40], [10, 30, 40], [20, 30, 40], [10, 20, 30, 40]]\n",
      "Sublists of the said list:\n",
      "[[], [10], [20], [30], [40], [10, 20], [10, 30], [10, 40], [20, 30], [20, 40], [30, 40], [10, 20, 30], [10, 20, 40], [10, 30, 40], [20, 30, 40], [10, 20, 30, 40]]\n",
      "\n",
      "Original list:\n",
      "['X', 'Y', 'Z']\n",
      "Sublists of the said list:\n",
      "[[], ['X'], ['Y'], ['Z'], ['X', 'Y'], ['X', 'Z'], ['Y', 'Z'], ['X', 'Y', 'Z']]\n"
     ]
    }
   ],
   "source": [
    "from itertools import combinations\n",
    "def sub_lists(my_list):\n",
    "\tsubs = []\n",
    "\tfor i in range(0, len(my_list)+1):\n",
    "\t  temp = [list(x) for x in combinations(my_list, i)]\n",
    "\t  if len(temp)>0:\n",
    "\t    subs.extend(temp)\n",
    "\treturn subs\n",
    "\n",
    "\n",
    "l1 = [10, 20, 30, 40]\n",
    "l2 = ['X', 'Y', 'Z']\n",
    "print(\"Original list:\")\n",
    "print(l1)\n",
    "print(\"S\")\n",
    "print(sub_lists(l1))\n",
    "print(\"Sublists of the said list:\")\n",
    "print(sub_lists(l1))\n",
    "print(\"\\nOriginal list:\")\n",
    "print(l2)\n",
    "print(\"Sublists of the said list:\")\n",
    "print(sub_lists(l2))"
   ]
  },
  {
   "cell_type": "code",
   "execution_count": 67,
   "metadata": {},
   "outputs": [],
   "source": [
    "import itertools\n",
    "from itertools import combinations_with_replacement\n",
    "z= itertools.combinations_with_replacement('ABCD', 2)\n",
    "#list(z)\n"
   ]
  },
  {
   "cell_type": "code",
   "execution_count": 65,
   "metadata": {},
   "outputs": [
    {
     "name": "stdout",
     "output_type": "stream",
     "text": [
      "[('A', 'A'), ('A', 'B'), ('A', 'C'), ('A', 'D'), ('B', 'B'), ('B', 'C'), ('B', 'D'), ('C', 'C'), ('C', 'D'), ('D', 'D')]\n"
     ]
    }
   ],
   "source": [
    "y = list(z)\n",
    "print(y)"
   ]
  },
  {
   "cell_type": "raw",
   "metadata": {},
   "source": [
    "#result should have been the following\n",
    "AA AB AC AD BB BC BD CC CD DD"
   ]
  },
  {
   "cell_type": "markdown",
   "metadata": {},
   "source": [
    "35. Write a Python program to create a list by concatenating a given list which range goes from 1 to n.<br>\n",
    "Sample list : ['p', 'q']\n",
    ", n =5<br>\n",
    "Sample Output : ['p1', 'q1', 'p2', 'q2', 'p3', 'q3', 'p4', 'q4', 'p5', 'q5']"
   ]
  },
  {
   "cell_type": "code",
   "execution_count": 70,
   "metadata": {},
   "outputs": [
    {
     "name": "stdout",
     "output_type": "stream",
     "text": [
      "['p1', 'q1', 'p2', 'q2', 'p3', 'q3', 'p4', 'q4']\n"
     ]
    }
   ],
   "source": [
    "my_list = ['p', 'q']\n",
    "n = 4\n",
    "new_list = ['{}{}'.format(x, y) for y in range(1, n+1) for x in my_list]\n",
    "print(new_list)"
   ]
  },
  {
   "cell_type": "markdown",
   "metadata": {},
   "source": [
    "## formatting with{}"
   ]
  },
  {
   "cell_type": "code",
   "execution_count": 72,
   "metadata": {},
   "outputs": [
    {
     "name": "stdout",
     "output_type": "stream",
     "text": [
      "p2\n"
     ]
    }
   ],
   "source": [
    "s = \"p\"\n",
    "y = 2\n",
    "print(\"{}{}\".format(s, y))"
   ]
  },
  {
   "cell_type": "code",
   "execution_count": 73,
   "metadata": {},
   "outputs": [
    {
     "name": "stdout",
     "output_type": "stream",
     "text": [
      "12\n"
     ]
    }
   ],
   "source": [
    "u = \"1\"\n",
    "v = \"2\"\n",
    "print(format(u+v))"
   ]
  },
  {
   "cell_type": "markdown",
   "metadata": {},
   "source": [
    "36. Write a Python program to get variable unique identification number or string."
   ]
  },
  {
   "cell_type": "code",
   "execution_count": 74,
   "metadata": {},
   "outputs": [
    {
     "name": "stdout",
     "output_type": "stream",
     "text": [
      "10190f0f0\n",
      "104185830\n"
     ]
    }
   ],
   "source": [
    "x = 100\n",
    "print(format(id(x), 'x'))\n",
    "s = 'zipcode'\n",
    "print(format(id(s), 'x')) "
   ]
  },
  {
   "cell_type": "code",
   "execution_count": 75,
   "metadata": {},
   "outputs": [
    {
     "name": "stdout",
     "output_type": "stream",
     "text": [
      "4321240560\n"
     ]
    }
   ],
   "source": [
    "o = 12\n",
    "print(id(o))"
   ]
  },
  {
   "cell_type": "code",
   "execution_count": 76,
   "metadata": {},
   "outputs": [
    {
     "name": "stdout",
     "output_type": "stream",
     "text": [
      "10190e4d0\n"
     ]
    }
   ],
   "source": [
    "op = 12\n",
    "print(format(id(3), 'x'))"
   ]
  },
  {
   "cell_type": "code",
   "execution_count": 81,
   "metadata": {},
   "outputs": [
    {
     "name": "stdout",
     "output_type": "stream",
     "text": [
      "10190e530\n"
     ]
    }
   ],
   "source": [
    "op = 13\n",
    "print(format(id(6), 'x'))"
   ]
  },
  {
   "cell_type": "code",
   "execution_count": 82,
   "metadata": {},
   "outputs": [
    {
     "name": "stdout",
     "output_type": "stream",
     "text": [
      "10190e570\n"
     ]
    }
   ],
   "source": [
    "op = 13\n",
    "print(format(id(8), 'x'))"
   ]
  },
  {
   "cell_type": "code",
   "execution_count": 83,
   "metadata": {},
   "outputs": [
    {
     "name": "stdout",
     "output_type": "stream",
     "text": [
      "10190e470\n"
     ]
    }
   ],
   "source": [
    "op = 13\n",
    "print(format(id(0), 'x'))"
   ]
  },
  {
   "cell_type": "code",
   "execution_count": 84,
   "metadata": {},
   "outputs": [
    {
     "ename": "SyntaxError",
     "evalue": "unexpected EOF while parsing (<ipython-input-84-347268b51a70>, line 2)",
     "output_type": "error",
     "traceback": [
      "\u001b[0;36m  File \u001b[0;32m\"<ipython-input-84-347268b51a70>\"\u001b[0;36m, line \u001b[0;32m2\u001b[0m\n\u001b[0;31m    print(format(id(0))\u001b[0m\n\u001b[0m                       ^\u001b[0m\n\u001b[0;31mSyntaxError\u001b[0m\u001b[0;31m:\u001b[0m unexpected EOF while parsing\n"
     ]
    }
   ],
   "source": [
    "op = 13\n",
    "print(format(id(0))\n",
    "# print(format(id(0), 'x')), if we take th eother argument out\n",
    "# needs 2nd argument\n",
    "# also the id parenthesis can't be left empty\n",
    "# check the error below"
   ]
  },
  {
   "cell_type": "markdown",
   "metadata": {},
   "source": [
    "37. Write a Python program to find common items from two lists. "
   ]
  },
  {
   "cell_type": "code",
   "execution_count": 85,
   "metadata": {},
   "outputs": [
    {
     "name": "stdout",
     "output_type": "stream",
     "text": [
      "['Green', 'White']\n"
     ]
    }
   ],
   "source": [
    "list1 = \"Red\", \"Green\", \"Orange\", \"White\"\n",
    "list2 = \"Black\", \"Green\", \"White\", \"Pink\"\n",
    "inter = []\n",
    "for x in list1:\n",
    "    if x in list2:\n",
    "        inter.append(x)\n",
    "print(inter)\n",
    "    "
   ]
  },
  {
   "cell_type": "markdown",
   "metadata": {},
   "source": [
    "or"
   ]
  },
  {
   "cell_type": "code",
   "execution_count": 86,
   "metadata": {},
   "outputs": [
    {
     "name": "stdout",
     "output_type": "stream",
     "text": [
      "{'Green', 'White'}\n"
     ]
    }
   ],
   "source": [
    "print(set(list1) & set(list2))"
   ]
  },
  {
   "cell_type": "markdown",
   "metadata": {},
   "source": [
    "38. Write a Python program to convert a list of multiple integers into a single integer."
   ]
  },
  {
   "cell_type": "code",
   "execution_count": 87,
   "metadata": {},
   "outputs": [
    {
     "name": "stdout",
     "output_type": "stream",
     "text": [
      "113350"
     ]
    }
   ],
   "source": [
    "li = [11,33,50]\n",
    "\n",
    "for i in li: \n",
    "    print(i, end=\"\")"
   ]
  },
  {
   "cell_type": "markdown",
   "metadata": {},
   "source": [
    "39. Write a Python program to create multiple lists."
   ]
  },
  {
   "cell_type": "code",
   "execution_count": 88,
   "metadata": {},
   "outputs": [
    {
     "name": "stdout",
     "output_type": "stream",
     "text": [
      "{'1': [], '2': [], '3': [], '4': [], '5': [], '6': [], '7': [], '8': [], '9': [], '10': [], '11': [], '12': [], '13': [], '14': [], '15': [], '16': [], '17': [], '18': [], '19': [], '20': []}\n"
     ]
    }
   ],
   "source": [
    "obj = {}\n",
    "for i in range(1, 21):\n",
    "    obj[str(i)] = []\n",
    "print(obj)"
   ]
  },
  {
   "cell_type": "code",
   "execution_count": 89,
   "metadata": {},
   "outputs": [
    {
     "name": "stdout",
     "output_type": "stream",
     "text": [
      "[[], [], [], [], [], [], [], [], [], [], [], [], [], [], [], [], [], [], [], []]\n"
     ]
    }
   ],
   "source": [
    "oj = []\n",
    "for i in range(1, 21):\n",
    "    oj.append([])\n",
    "print(oj)"
   ]
  },
  {
   "cell_type": "markdown",
   "metadata": {},
   "source": [
    "40. Create a function to find a specific value in a list or set."
   ]
  },
  {
   "cell_type": "code",
   "execution_count": 90,
   "metadata": {},
   "outputs": [],
   "source": [
    "def find_value(value_to_find, values):\n",
    "    if value_to_find in values:\n",
    "        return values.index(value_to_find)\n",
    "    else:\n",
    "        return -1"
   ]
  },
  {
   "cell_type": "code",
   "execution_count": 91,
   "metadata": {},
   "outputs": [
    {
     "data": {
      "text/plain": [
       "-1"
      ]
     },
     "execution_count": 91,
     "metadata": {},
     "output_type": "execute_result"
    }
   ],
   "source": [
    "values = [4,2,3,1, 8]\n",
    "value_to_find =9\n",
    "find_value(value_to_find, values)"
   ]
  },
  {
   "cell_type": "code",
   "execution_count": 92,
   "metadata": {},
   "outputs": [
    {
     "data": {
      "text/plain": [
       "2"
      ]
     },
     "execution_count": 92,
     "metadata": {},
     "output_type": "execute_result"
    }
   ],
   "source": [
    "values = [4,2,3,1, 8]\n",
    "value_to_find =3\n",
    "find_value(value_to_find, values)"
   ]
  },
  {
   "cell_type": "markdown",
   "metadata": {},
   "source": [
    "some random example"
   ]
  },
  {
   "cell_type": "code",
   "execution_count": 101,
   "metadata": {},
   "outputs": [
    {
     "name": "stdout",
     "output_type": "stream",
     "text": [
      "a = [1, 2, 3, 4]\n"
     ]
    }
   ],
   "source": [
    "a = [1, 2]\n",
    "b = [3, 4]\n",
    "a[len(a):] = b\n",
    "print('a =', a)"
   ]
  },
  {
   "cell_type": "code",
   "execution_count": 116,
   "metadata": {},
   "outputs": [
    {
     "data": {
      "text/plain": [
       "2"
      ]
     },
     "execution_count": 116,
     "metadata": {},
     "output_type": "execute_result"
    }
   ],
   "source": [
    "a = [1, 2]\n",
    "len(a)"
   ]
  }
 ],
 "metadata": {
  "kernelspec": {
   "display_name": "Python 3",
   "language": "python",
   "name": "python3"
  },
  "language_info": {
   "codemirror_mode": {
    "name": "ipython",
    "version": 3
   },
   "file_extension": ".py",
   "mimetype": "text/x-python",
   "name": "python",
   "nbconvert_exporter": "python",
   "pygments_lexer": "ipython3",
   "version": "3.7.4"
  }
 },
 "nbformat": 4,
 "nbformat_minor": 4
}
